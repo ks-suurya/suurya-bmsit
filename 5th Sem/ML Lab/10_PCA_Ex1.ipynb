{
  "cells": [
    {
      "cell_type": "markdown",
      "metadata": {
        "id": "1y8ntSM7Wp-D"
      },
      "source": [
        "# PCA - Example 1\n",
        "## Consider the following dataset with two features (x1 and x2) for 4 observations. Apply PCA to reduce the dimension from two to one."
      ]
    },
    {
      "cell_type": "code",
      "execution_count": null,
      "metadata": {
        "id": "Nc-7xpgiWp-H"
      },
      "outputs": [],
      "source": [
        "import numpy as np\n",
        "\n",
        "# Step 1: Define the dataset\n",
        "data = np.array([\n",
        "    [4, 11],\n",
        "    [8, 4],\n",
        "    [13, 5],\n",
        "    [7, 14]\n",
        "])"
      ]
    },
    {
      "cell_type": "code",
      "execution_count": null,
      "metadata": {
        "id": "Cw4bdMUbWp-I"
      },
      "outputs": [],
      "source": [
        "# Step 2: Standardize the data (center by subtracting the mean)\n",
        "mean = np.mean(data, axis=0)\n",
        "centered_data = data - mean"
      ]
    },
    {
      "cell_type": "code",
      "execution_count": null,
      "metadata": {
        "id": "OxRbf78rWp-I",
        "outputId": "cb855c33-cd7a-443f-d19e-c12077ff414d"
      },
      "outputs": [
        {
          "data": {
            "text/plain": [
              "array([8. , 8.5])"
            ]
          },
          "execution_count": 5,
          "metadata": {},
          "output_type": "execute_result"
        }
      ],
      "source": [
        "mean"
      ]
    },
    {
      "cell_type": "code",
      "execution_count": null,
      "metadata": {
        "id": "rBdTbgTeWp-J"
      },
      "outputs": [],
      "source": [
        "# Step 3: Compute the covariance matrix\n",
        "cov_matrix = np.cov(centered_data, rowvar=False)"
      ]
    },
    {
      "cell_type": "code",
      "execution_count": null,
      "metadata": {
        "id": "RmV1j8FuWp-J",
        "outputId": "92ad44e5-6a17-4e98-f65e-2102c259f354"
      },
      "outputs": [
        {
          "data": {
            "text/plain": [
              "array([[ 14., -11.],\n",
              "       [-11.,  23.]])"
            ]
          },
          "execution_count": 4,
          "metadata": {},
          "output_type": "execute_result"
        }
      ],
      "source": [
        "cov_matrix"
      ]
    },
    {
      "cell_type": "code",
      "execution_count": null,
      "metadata": {
        "id": "5Uc3cTdoWp-K"
      },
      "outputs": [],
      "source": [
        "# Step 4: Compute eigenvalues and eigenvectors\n",
        "eigenvalues, eigenvectors = np.linalg.eig(cov_matrix)"
      ]
    },
    {
      "cell_type": "code",
      "execution_count": null,
      "metadata": {
        "id": "3OJW4cE9Wp-K",
        "outputId": "5dc33eac-e928-4257-e12a-84d0f83df021"
      },
      "outputs": [
        {
          "data": {
            "text/plain": [
              "array([ 6.61513568, 30.38486432])"
            ]
          },
          "execution_count": 7,
          "metadata": {},
          "output_type": "execute_result"
        }
      ],
      "source": [
        "eigenvalues"
      ]
    },
    {
      "cell_type": "code",
      "execution_count": null,
      "metadata": {
        "id": "cG6g40CnWp-K",
        "outputId": "d9d77051-5ebd-4a44-a647-e06b744a08f3"
      },
      "outputs": [
        {
          "data": {
            "text/plain": [
              "array([[-0.83025082,  0.55738997],\n",
              "       [-0.55738997, -0.83025082]])"
            ]
          },
          "execution_count": 8,
          "metadata": {},
          "output_type": "execute_result"
        }
      ],
      "source": [
        "eigenvectors"
      ]
    },
    {
      "cell_type": "code",
      "execution_count": null,
      "metadata": {
        "id": "dT9YsyQDWp-L"
      },
      "outputs": [],
      "source": [
        "# Step 5: Sort eigenvalues and eigenvectors in descending order\n",
        "sorted_indices = np.argsort(eigenvalues)[::-1]\n",
        "eigenvalues = eigenvalues[sorted_indices]\n",
        "eigenvectors = eigenvectors[:, sorted_indices]"
      ]
    },
    {
      "cell_type": "code",
      "execution_count": null,
      "metadata": {
        "id": "yKsVi-KnWp-L",
        "outputId": "64797e78-301c-475b-a9ad-c525b7ae23fa"
      },
      "outputs": [
        {
          "data": {
            "text/plain": [
              "array([30.38486432,  6.61513568])"
            ]
          },
          "execution_count": 10,
          "metadata": {},
          "output_type": "execute_result"
        }
      ],
      "source": [
        "eigenvalues"
      ]
    },
    {
      "cell_type": "code",
      "execution_count": null,
      "metadata": {
        "id": "bVzcyjC9Wp-L",
        "outputId": "efd0159f-9f33-4852-93bb-40d226c567d9"
      },
      "outputs": [
        {
          "data": {
            "text/plain": [
              "array([[ 0.55738997, -0.83025082],\n",
              "       [-0.83025082, -0.55738997]])"
            ]
          },
          "execution_count": 11,
          "metadata": {},
          "output_type": "execute_result"
        }
      ],
      "source": [
        "eigenvectors"
      ]
    },
    {
      "cell_type": "code",
      "execution_count": null,
      "metadata": {
        "id": "SyEx34_7Wp-L"
      },
      "outputs": [],
      "source": [
        "# Step 6: Select the principal component (1D reduction)\n",
        "pc1 = eigenvectors[:, 0]"
      ]
    },
    {
      "cell_type": "code",
      "execution_count": null,
      "metadata": {
        "id": "x6FF1mSbWp-L",
        "outputId": "2a93824b-489d-4664-ee47-90d12b9e6e99"
      },
      "outputs": [
        {
          "data": {
            "text/plain": [
              "array([ 0.55738997, -0.83025082])"
            ]
          },
          "execution_count": 13,
          "metadata": {},
          "output_type": "execute_result"
        }
      ],
      "source": [
        "pc1"
      ]
    },
    {
      "cell_type": "code",
      "execution_count": null,
      "metadata": {
        "id": "-o-zaI25Wp-M"
      },
      "outputs": [],
      "source": [
        "# Step 7: Project the data onto the principal component\n",
        "projected_data = centered_data @ pc1"
      ]
    },
    {
      "cell_type": "code",
      "execution_count": null,
      "metadata": {
        "id": "-PwCkE2tWp-M",
        "outputId": "cb7c453a-55b6-411c-8cf5-a5df3bbe841c"
      },
      "outputs": [
        {
          "data": {
            "text/plain": [
              "array([-4.30518692,  3.73612869,  5.69282771, -5.12376947])"
            ]
          },
          "execution_count": 15,
          "metadata": {},
          "output_type": "execute_result"
        }
      ],
      "source": [
        "projected_data"
      ]
    },
    {
      "cell_type": "code",
      "execution_count": null,
      "metadata": {
        "id": "QApSbBULWp-M",
        "outputId": "f1f1d7b1-3d84-44be-dda6-7fd533f4efd6"
      },
      "outputs": [
        {
          "name": "stdout",
          "output_type": "stream",
          "text": [
            "Original Data:\n",
            " [[ 4 11]\n",
            " [ 8  4]\n",
            " [13  5]\n",
            " [ 7 14]]\n",
            "\n",
            "Mean:\n",
            " [8.  8.5]\n",
            "\n",
            "Centered Data:\n",
            " [[-4.   2.5]\n",
            " [ 0.  -4.5]\n",
            " [ 5.  -3.5]\n",
            " [-1.   5.5]]\n",
            "\n",
            "Covariance Matrix:\n",
            " [[ 14. -11.]\n",
            " [-11.  23.]]\n",
            "\n",
            "Eigenvalues:\n",
            " [30.38486432  6.61513568]\n",
            "\n",
            "Eigenvectors:\n",
            " [[ 0.55738997 -0.83025082]\n",
            " [-0.83025082 -0.55738997]]\n",
            "\n",
            "Principal Component (PC1):\n",
            " [ 0.55738997 -0.83025082]\n",
            "\n",
            "Projected Data:\n",
            " [-4.30518692  3.73612869  5.69282771 -5.12376947]\n"
          ]
        }
      ],
      "source": [
        "# Print results\n",
        "print(\"Original Data:\\n\", data)\n",
        "print(\"\\nMean:\\n\", mean)\n",
        "print(\"\\nCentered Data:\\n\", centered_data)\n",
        "print(\"\\nCovariance Matrix:\\n\", cov_matrix)\n",
        "print(\"\\nEigenvalues:\\n\", eigenvalues)\n",
        "print(\"\\nEigenvectors:\\n\", eigenvectors)\n",
        "print(\"\\nPrincipal Component (PC1):\\n\", pc1)\n",
        "print(\"\\nProjected Data:\\n\", projected_data)"
      ]
    }
  ],
  "metadata": {
    "colab": {
      "provenance": []
    },
    "kernelspec": {
      "display_name": "Python 3",
      "language": "python",
      "name": "python3"
    },
    "language_info": {
      "codemirror_mode": {
        "name": "ipython",
        "version": 3
      },
      "file_extension": ".py",
      "mimetype": "text/x-python",
      "name": "python",
      "nbconvert_exporter": "python",
      "pygments_lexer": "ipython3",
      "version": "3.8.5"
    }
  },
  "nbformat": 4,
  "nbformat_minor": 0
}
