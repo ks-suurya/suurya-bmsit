{
  "cells": [
    {
      "cell_type": "markdown",
      "metadata": {
        "id": "1y8ntSM7Wp-D"
      },
      "source": [
        "# PCA - Example 2\n",
        "## Consider the following dataset with two features (x1 and x2) for 4 observations. Apply PCA to reduce the dimension from two to one."
      ]
    },
    {
      "cell_type": "code",
      "execution_count": 1,
      "metadata": {
        "id": "Nc-7xpgiWp-H"
      },
      "outputs": [],
      "source": [
        "import numpy as np\n",
        "\n",
        "# Step 1: Define the dataset\n",
        "data = np.array([\n",
        "    [2, 4],\n",
        "    [0, 0],\n",
        "    [1, 1],\n",
        "    [3, 3],\n",
        "    [5, 5]\n",
        "])"
      ]
    },
    {
      "cell_type": "code",
      "execution_count": 2,
      "metadata": {
        "id": "Cw4bdMUbWp-I"
      },
      "outputs": [],
      "source": [
        "# Step 2: Standardize the data (center by subtracting the mean)\n",
        "mean = np.mean(data, axis=0)\n",
        "centered_data = data - mean"
      ]
    },
    {
      "cell_type": "code",
      "execution_count": 3,
      "metadata": {
        "colab": {
          "base_uri": "https://localhost:8080/"
        },
        "id": "OxRbf78rWp-I",
        "outputId": "212fdc41-d8af-4b91-b061-e9c02644e795"
      },
      "outputs": [
        {
          "data": {
            "text/plain": [
              "array([2.2, 2.6])"
            ]
          },
          "execution_count": 3,
          "metadata": {},
          "output_type": "execute_result"
        }
      ],
      "source": [
        "mean"
      ]
    },
    {
      "cell_type": "code",
      "execution_count": 4,
      "metadata": {
        "id": "rBdTbgTeWp-J"
      },
      "outputs": [],
      "source": [
        "# Step 3: Compute the covariance matrix\n",
        "cov_matrix = np.cov(centered_data, rowvar=False)"
      ]
    },
    {
      "cell_type": "code",
      "execution_count": 5,
      "metadata": {
        "colab": {
          "base_uri": "https://localhost:8080/"
        },
        "id": "RmV1j8FuWp-J",
        "outputId": "1402b1b6-571b-4af8-a529-2aade7e68c52"
      },
      "outputs": [
        {
          "data": {
            "text/plain": [
              "array([[3.7, 3.6],\n",
              "       [3.6, 4.3]])"
            ]
          },
          "execution_count": 5,
          "metadata": {},
          "output_type": "execute_result"
        }
      ],
      "source": [
        "cov_matrix"
      ]
    },
    {
      "cell_type": "code",
      "execution_count": 6,
      "metadata": {
        "id": "5Uc3cTdoWp-K"
      },
      "outputs": [],
      "source": [
        "# Step 4: Compute eigenvalues and eigenvectors\n",
        "eigenvalues, eigenvectors = np.linalg.eig(cov_matrix)"
      ]
    },
    {
      "cell_type": "code",
      "execution_count": 7,
      "metadata": {
        "colab": {
          "base_uri": "https://localhost:8080/"
        },
        "id": "3OJW4cE9Wp-K",
        "outputId": "b710eef3-62c1-4728-e7eb-c418e8cd6cea"
      },
      "outputs": [
        {
          "data": {
            "text/plain": [
              "array([0.38752163, 7.61247837])"
            ]
          },
          "execution_count": 7,
          "metadata": {},
          "output_type": "execute_result"
        }
      ],
      "source": [
        "eigenvalues"
      ]
    },
    {
      "cell_type": "code",
      "execution_count": 8,
      "metadata": {
        "colab": {
          "base_uri": "https://localhost:8080/"
        },
        "id": "cG6g40CnWp-K",
        "outputId": "fbc8fb74-2de7-4c38-f432-2974f64969e2"
      },
      "outputs": [
        {
          "data": {
            "text/plain": [
              "array([[-0.73588229, -0.67710949],\n",
              "       [ 0.67710949, -0.73588229]])"
            ]
          },
          "execution_count": 8,
          "metadata": {},
          "output_type": "execute_result"
        }
      ],
      "source": [
        "eigenvectors"
      ]
    },
    {
      "cell_type": "code",
      "execution_count": 9,
      "metadata": {
        "id": "dT9YsyQDWp-L"
      },
      "outputs": [],
      "source": [
        "# Step 5: Sort eigenvalues and eigenvectors in descending order\n",
        "sorted_indices = np.argsort(eigenvalues)[::-1]\n",
        "eigenvalues = eigenvalues[sorted_indices]\n",
        "eigenvectors = eigenvectors[:, sorted_indices]"
      ]
    },
    {
      "cell_type": "code",
      "execution_count": 10,
      "metadata": {
        "colab": {
          "base_uri": "https://localhost:8080/"
        },
        "id": "yKsVi-KnWp-L",
        "outputId": "8deea6e4-507a-4a1c-81e5-8dd37644d3fb"
      },
      "outputs": [
        {
          "data": {
            "text/plain": [
              "array([7.61247837, 0.38752163])"
            ]
          },
          "execution_count": 10,
          "metadata": {},
          "output_type": "execute_result"
        }
      ],
      "source": [
        "eigenvalues"
      ]
    },
    {
      "cell_type": "code",
      "execution_count": 11,
      "metadata": {
        "colab": {
          "base_uri": "https://localhost:8080/"
        },
        "id": "bVzcyjC9Wp-L",
        "outputId": "fd8b8653-0bc8-4425-e3f4-147edf7af560"
      },
      "outputs": [
        {
          "data": {
            "text/plain": [
              "array([[-0.67710949, -0.73588229],\n",
              "       [-0.73588229,  0.67710949]])"
            ]
          },
          "execution_count": 11,
          "metadata": {},
          "output_type": "execute_result"
        }
      ],
      "source": [
        "eigenvectors"
      ]
    },
    {
      "cell_type": "code",
      "execution_count": 12,
      "metadata": {
        "id": "SyEx34_7Wp-L"
      },
      "outputs": [],
      "source": [
        "# Step 6: Select the principal component (1D reduction)\n",
        "pc1 = eigenvectors[:, 0]"
      ]
    },
    {
      "cell_type": "code",
      "execution_count": 13,
      "metadata": {
        "colab": {
          "base_uri": "https://localhost:8080/"
        },
        "id": "x6FF1mSbWp-L",
        "outputId": "c5188139-c58c-4f47-b061-72b0e66dd53a"
      },
      "outputs": [
        {
          "data": {
            "text/plain": [
              "array([-0.67710949, -0.73588229])"
            ]
          },
          "execution_count": 13,
          "metadata": {},
          "output_type": "execute_result"
        }
      ],
      "source": [
        "pc1"
      ]
    },
    {
      "cell_type": "code",
      "execution_count": 14,
      "metadata": {
        "id": "-o-zaI25Wp-M"
      },
      "outputs": [],
      "source": [
        "# Step 7: Project the data onto the principal component\n",
        "projected_data = centered_data @ pc1"
      ]
    },
    {
      "cell_type": "code",
      "execution_count": 15,
      "metadata": {
        "colab": {
          "base_uri": "https://localhost:8080/"
        },
        "id": "-PwCkE2tWp-M",
        "outputId": "e72b115c-e0b1-4c79-da23-84a745bc8d61"
      },
      "outputs": [
        {
          "data": {
            "text/plain": [
              "array([-0.8948133 ,  3.40293482,  1.98994305, -0.83604051, -3.66202406])"
            ]
          },
          "execution_count": 15,
          "metadata": {},
          "output_type": "execute_result"
        }
      ],
      "source": [
        "projected_data"
      ]
    },
    {
      "cell_type": "code",
      "execution_count": 16,
      "metadata": {
        "colab": {
          "base_uri": "https://localhost:8080/"
        },
        "id": "QApSbBULWp-M",
        "outputId": "9639f6c3-d04c-4c36-f31d-3f4ab0142ba0"
      },
      "outputs": [
        {
          "name": "stdout",
          "output_type": "stream",
          "text": [
            "Original Data:\n",
            " [[2 4]\n",
            " [0 0]\n",
            " [1 1]\n",
            " [3 3]\n",
            " [5 5]]\n",
            "\n",
            "Mean:\n",
            " [2.2 2.6]\n",
            "\n",
            "Centered Data:\n",
            " [[-0.2  1.4]\n",
            " [-2.2 -2.6]\n",
            " [-1.2 -1.6]\n",
            " [ 0.8  0.4]\n",
            " [ 2.8  2.4]]\n",
            "\n",
            "Covariance Matrix:\n",
            " [[3.7 3.6]\n",
            " [3.6 4.3]]\n",
            "\n",
            "Eigenvalues:\n",
            " [7.61247837 0.38752163]\n",
            "\n",
            "Eigenvectors:\n",
            " [[-0.67710949 -0.73588229]\n",
            " [-0.73588229  0.67710949]]\n",
            "\n",
            "Principal Component (PC1):\n",
            " [-0.67710949 -0.73588229]\n",
            "\n",
            "Projected Data:\n",
            " [-0.8948133   3.40293482  1.98994305 -0.83604051 -3.66202406]\n"
          ]
        }
      ],
      "source": [
        "# Print results\n",
        "print(\"Original Data:\\n\", data)\n",
        "print(\"\\nMean:\\n\", mean)\n",
        "print(\"\\nCentered Data:\\n\", centered_data)\n",
        "print(\"\\nCovariance Matrix:\\n\", cov_matrix)\n",
        "print(\"\\nEigenvalues:\\n\", eigenvalues)\n",
        "print(\"\\nEigenvectors:\\n\", eigenvectors)\n",
        "print(\"\\nPrincipal Component (PC1):\\n\", pc1)\n",
        "print(\"\\nProjected Data:\\n\", projected_data)"
      ]
    }
  ],
  "metadata": {
    "colab": {
      "provenance": []
    },
    "kernelspec": {
      "display_name": "Python 3",
      "language": "python",
      "name": "python3"
    },
    "language_info": {
      "codemirror_mode": {
        "name": "ipython",
        "version": 3
      },
      "file_extension": ".py",
      "mimetype": "text/x-python",
      "name": "python",
      "nbconvert_exporter": "python",
      "pygments_lexer": "ipython3",
      "version": "3.8.5"
    }
  },
  "nbformat": 4,
  "nbformat_minor": 0
}
