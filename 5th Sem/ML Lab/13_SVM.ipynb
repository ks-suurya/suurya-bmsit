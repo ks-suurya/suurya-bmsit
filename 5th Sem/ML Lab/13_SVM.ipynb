{
  "cells": [
    {
      "cell_type": "markdown",
      "metadata": {
        "id": "3PRl0NwyagbJ"
      },
      "source": [
        "# Support Vector Machine"
      ]
    },
    {
      "cell_type": "markdown",
      "metadata": {
        "id": "rEYt4gdxagbM"
      },
      "source": [
        "## Classifying Points into Two Classes using SVM\n",
        "### Consider the following dataset where points are labeled as either Class 0 or Class 1 based on their coordinates. Build an SVM to classify new points into Class 0 or Class 1.\n",
        "\n"
      ]
    },
    {
      "cell_type": "code",
      "execution_count": null,
      "metadata": {
        "id": "WdZOzhtuagbN"
      },
      "outputs": [],
      "source": [
        "import numpy as np\n",
        "import matplotlib.pyplot as plt\n",
        "from sklearn.svm import SVC\n",
        "from sklearn.metrics import accuracy_score"
      ]
    },
    {
      "cell_type": "code",
      "execution_count": null,
      "metadata": {
        "id": "_9HvKYImagbO"
      },
      "outputs": [],
      "source": [
        "# Dataset\n",
        "X = np.array([[1, 2], [2, 3], [3, 3], [4, 4],  # Class 0\n",
        "              [7, 8], [8, 9], [9, 9], [10, 10]])  # Class 1\n",
        "y = np.array([0, 0, 0, 0, 1, 1, 1, 1])  # Labels"
      ]
    },
    {
      "cell_type": "code",
      "execution_count": null,
      "metadata": {
        "id": "xTOCgVTXagbO"
      },
      "outputs": [],
      "source": [
        "# Train-Test Split\n",
        "from sklearn.model_selection import train_test_split\n",
        "X_train, X_test, y_train, y_test = train_test_split(X, y, test_size=0.25, random_state=42)"
      ]
    },
    {
      "cell_type": "code",
      "execution_count": null,
      "metadata": {
        "id": "aMsHhXEWagbP"
      },
      "outputs": [],
      "source": [
        "# Create SVM model with a linear kernel\n",
        "svm_model = SVC(kernel='linear', C=1.0)"
      ]
    },
    {
      "cell_type": "code",
      "execution_count": null,
      "metadata": {
        "id": "jRM9GsvUagbP",
        "outputId": "f89bbc2a-4d9a-4664-8d78-490c01e18911"
      },
      "outputs": [
        {
          "data": {
            "text/plain": [
              "SVC(kernel='linear')"
            ]
          },
          "execution_count": 5,
          "metadata": {},
          "output_type": "execute_result"
        }
      ],
      "source": [
        "# Train the model\n",
        "svm_model.fit(X_train, y_train)"
      ]
    },
    {
      "cell_type": "code",
      "execution_count": null,
      "metadata": {
        "id": "Z0OTkJSRagbQ"
      },
      "outputs": [],
      "source": [
        "# Make predictions\n",
        "y_pred = svm_model.predict(X_test)"
      ]
    },
    {
      "cell_type": "code",
      "execution_count": null,
      "metadata": {
        "id": "6mN1qWOIagbQ",
        "outputId": "9505dff9-ccb6-4dd9-d0a6-d23c0d6766d5"
      },
      "outputs": [
        {
          "name": "stdout",
          "output_type": "stream",
          "text": [
            "Accuracy: 100.00%\n"
          ]
        }
      ],
      "source": [
        "# Print accuracy\n",
        "accuracy = accuracy_score(y_test, y_pred)\n",
        "print(f\"Accuracy: {accuracy * 100:.2f}%\")"
      ]
    },
    {
      "cell_type": "code",
      "execution_count": null,
      "metadata": {
        "id": "mmLeTe7zagbQ",
        "outputId": "265ebdbb-23ed-45bf-c5f8-6f8a10feb89a"
      },
      "outputs": [
        {
          "data": {
            "image/png": "[encoded data removed]",
            "text/plain": [
              "<Figure size 432x288 with 1 Axes>"
            ]
          },
          "metadata": {
            "needs_background": "light"
          },
          "output_type": "display_data"
        }
      ],
      "source": [
        "# Plot the decision boundary\n",
        "def plot_decision_boundary(X, y, model):\n",
        "    # Plot points\n",
        "    plt.scatter(X[:, 0], X[:, 1], c=y, cmap='coolwarm', s=30)\n",
        "\n",
        "    # Get axis limits\n",
        "    ax = plt.gca()\n",
        "    xlim = ax.get_xlim()\n",
        "    ylim = ax.get_ylim()\n",
        "\n",
        "    # Create grid to evaluate the model\n",
        "    xx, yy = np.meshgrid(\n",
        "        np.linspace(xlim[0], xlim[1], 50),\n",
        "        np.linspace(ylim[0], ylim[1], 50)\n",
        "    )\n",
        "    Z = model.decision_function(np.c_[xx.ravel(), yy.ravel()])\n",
        "    Z = Z.reshape(xx.shape)\n",
        "\n",
        "    # Plot decision boundary and margins\n",
        "    plt.contour(xx, yy, Z, levels=[0], linewidths=2, colors='k')  # Decision boundary\n",
        "    plt.contour(xx, yy, Z, levels=[-1, 1], linewidths=1, linestyles=['--', '--'], colors='k')  # Margins\n",
        "\n",
        "    # Highlight support vectors\n",
        "    plt.scatter(model.support_vectors_[:, 0], model.support_vectors_[:, 1], s=100,\n",
        "                facecolors='none', edgecolors='k', label='Support Vectors')\n",
        "\n",
        "    plt.legend()\n",
        "    plt.show()\n",
        "\n",
        "# Plot the decision boundary\n",
        "plot_decision_boundary(X, y, svm_model)"
      ]
    }
  ],
  "metadata": {
    "colab": {
      "provenance": []
    },
    "kernelspec": {
      "display_name": "Python 3",
      "language": "python",
      "name": "python3"
    },
    "language_info": {
      "codemirror_mode": {
        "name": "ipython",
        "version": 3
      },
      "file_extension": ".py",
      "mimetype": "text/x-python",
      "name": "python",
      "nbconvert_exporter": "python",
      "pygments_lexer": "ipython3",
      "version": "3.8.5"
    }
  },
  "nbformat": 4,
  "nbformat_minor": 0
}
