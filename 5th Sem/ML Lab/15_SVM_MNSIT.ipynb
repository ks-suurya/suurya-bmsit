{
  "cells": [
    {
      "cell_type": "markdown",
      "metadata": {
        "id": "7Tb0kVC6ijl9"
      },
      "source": [
        "# Lab Program 7 | SVM on MNIST Dataset\n",
        "## Implement an SVM classifier to classify handwritten digits using the MNIST dataset."
      ]
    },
    {
      "cell_type": "code",
      "execution_count": null,
      "metadata": {
        "id": "rxbRgFwTijmA"
      },
      "outputs": [],
      "source": [
        "import numpy as np\n",
        "import matplotlib.pyplot as plt\n",
        "from sklearn import datasets\n",
        "from sklearn.svm import SVC\n",
        "from sklearn.metrics import accuracy_score, confusion_matrix, classification_report\n",
        "from sklearn.model_selection import train_test_split"
      ]
    },
    {
      "cell_type": "code",
      "execution_count": null,
      "metadata": {
        "id": "Kld1YxLdijmC"
      },
      "outputs": [],
      "source": [
        "# Step 1: Load the MNIST dataset\n",
        "from sklearn.datasets import fetch_openml\n",
        "mnist = fetch_openml('mnist_784', version=1)\n",
        "X, y = mnist.data, mnist.target"
      ]
    },
    {
      "cell_type": "code",
      "execution_count": null,
      "metadata": {
        "id": "ZaM92SyaijmE"
      },
      "outputs": [],
      "source": [
        "# Convert labels to integers\n",
        "y = y.astype(int)"
      ]
    },
    {
      "cell_type": "code",
      "execution_count": null,
      "metadata": {
        "id": "v7X_BPxjijmE"
      },
      "outputs": [],
      "source": [
        "# Step 2: Preprocess the data (scale pixel values to [0, 1])\n",
        "X = X / 255.0"
      ]
    },
    {
      "cell_type": "code",
      "execution_count": null,
      "metadata": {
        "id": "-LP39l8jijmF"
      },
      "outputs": [],
      "source": [
        "# Step 3: Train-Test Split (Use a subset for faster training)\n",
        "X_train, X_test, y_train, y_test = train_test_split(X, y, test_size=0.2, random_state=42)"
      ]
    },
    {
      "cell_type": "code",
      "execution_count": null,
      "metadata": {
        "id": "ldGvUpx2ijmF",
        "outputId": "5a348bce-5f4a-4760-e613-ebdcdf6280c1"
      },
      "outputs": [
        {
          "data": {
            "text/plain": [
              "SVC(C=5, gamma=0.05)"
            ]
          },
          "execution_count": 32,
          "metadata": {},
          "output_type": "execute_result"
        }
      ],
      "source": [
        "# Step 4: Train the SVM Model\n",
        "# Using a subset of the training data for faster execution\n",
        "subset = 5000  # Use only 5000 samples for training (adjust for more data)\n",
        "svm_model = SVC(kernel='rbf', C=5, gamma=0.05)  # Radial Basis Function kernel\n",
        "svm_model.fit(X_train[:subset], y_train[:subset])"
      ]
    },
    {
      "cell_type": "code",
      "execution_count": null,
      "metadata": {
        "id": "YbgsHnBAijmH"
      },
      "outputs": [],
      "source": [
        "# Step 5: Evaluate the Model\n",
        "y_pred = svm_model.predict(X_test)"
      ]
    },
    {
      "cell_type": "code",
      "execution_count": null,
      "metadata": {
        "id": "DVmNS5l1ijmH",
        "outputId": "11654a81-bf3a-4a9d-a542-f05b66aeb8dc"
      },
      "outputs": [
        {
          "name": "stdout",
          "output_type": "stream",
          "text": [
            "Accuracy: 95.33%\n"
          ]
        }
      ],
      "source": [
        "# Accuracy\n",
        "accuracy = accuracy_score(y_test, y_pred)\n",
        "print(f\"Accuracy: {accuracy * 100:.2f}%\")"
      ]
    },
    {
      "cell_type": "code",
      "execution_count": null,
      "metadata": {
        "id": "ZUX9nlmkijmI",
        "outputId": "67873269-a4cb-47bf-ce02-edff19d181a0"
      },
      "outputs": [
        {
          "name": "stdout",
          "output_type": "stream",
          "text": [
            "\n",
            "Classification Report:\n",
            "              precision    recall  f1-score   support\n",
            "\n",
            "           0       0.97      0.98      0.98      1343\n",
            "           1       0.99      0.98      0.98      1600\n",
            "           2       0.89      0.97      0.93      1380\n",
            "           3       0.93      0.94      0.93      1433\n",
            "           4       0.96      0.95      0.95      1295\n",
            "           5       0.95      0.95      0.95      1273\n",
            "           6       0.98      0.96      0.97      1396\n",
            "           7       0.97      0.95      0.96      1503\n",
            "           8       0.95      0.93      0.94      1357\n",
            "           9       0.94      0.92      0.93      1420\n",
            "\n",
            "    accuracy                           0.95     14000\n",
            "   macro avg       0.95      0.95      0.95     14000\n",
            "weighted avg       0.95      0.95      0.95     14000\n",
            "\n"
          ]
        }
      ],
      "source": [
        "# Classification Report\n",
        "print(\"\\nClassification Report:\")\n",
        "print(classification_report(y_test, y_pred))"
      ]
    },
    {
      "cell_type": "code",
      "execution_count": null,
      "metadata": {
        "id": "zegPacB5ijmI",
        "outputId": "9fcb48b5-4645-420e-8838-7bec53579d7a"
      },
      "outputs": [
        {
          "name": "stdout",
          "output_type": "stream",
          "text": [
            "\n",
            "Confusion Matrix:\n",
            "[[1318    1    8    0    1    2    5    1    6    1]\n",
            " [   0 1568    6    7    2    4    0    2    6    5]\n",
            " [   2    3 1342    3    8    3    4    5    9    1]\n",
            " [   1    0   27 1345    0   22    2    9   18    9]\n",
            " [   2    2   18    2 1229    0    6    2    4   30]\n",
            " [   5    1   10   34    4 1203    5    0    9    2]\n",
            " [  11    2   17    0    7   12 1342    0    5    0]\n",
            " [   3    6   24    1    8    3    0 1428    4   26]\n",
            " [   3    4   26   36    2   11    3    5 1262    5]\n",
            " [   9    4   27   19   20    7    0   13   12 1309]]\n"
          ]
        }
      ],
      "source": [
        "# Confusion Matrix\n",
        "conf_matrix = confusion_matrix(y_test, y_pred)\n",
        "print(\"\\nConfusion Matrix:\")\n",
        "print(conf_matrix)"
      ]
    },
    {
      "cell_type": "code",
      "execution_count": null,
      "metadata": {
        "id": "oafhCWOkijmJ"
      },
      "outputs": [],
      "source": [
        "# Function to plot samples with predictions\n",
        "def plot_samples(X, y_true, y_pred, n_samples=10):\n",
        "    plt.figure(figsize=(10, 2))\n",
        "    for i in range(n_samples):\n",
        "        plt.subplot(1, n_samples, i + 1)\n",
        "        plt.imshow(X[i].reshape(28, 28), cmap='gray')  # Ensure X is in the correct shape\n",
        "        plt.title(f\"True: {y_true[i]}\\nPred: {y_pred[i]}\")\n",
        "        plt.axis('off')\n",
        "    plt.tight_layout()\n",
        "    plt.show()"
      ]
    },
    {
      "cell_type": "code",
      "execution_count": null,
      "metadata": {
        "id": "Wa_1q94JijmJ"
      },
      "outputs": [],
      "source": [
        "# Ensure X_test, y_test, and y_pred are NumPy arrays\n",
        "if isinstance(X_test, pd.DataFrame) or isinstance(X_test, pd.Series):\n",
        "    X_test = X_test.values\n",
        "if isinstance(y_test, pd.Series):\n",
        "    y_test = y_test.values\n",
        "if isinstance(y_pred, pd.Series):\n",
        "    y_pred = y_pred.values"
      ]
    },
    {
      "cell_type": "code",
      "execution_count": null,
      "metadata": {
        "id": "uYQHUDBNijmJ",
        "outputId": "4d9640d9-7b77-487a-8fa6-584bc8cad0c0"
      },
      "outputs": [
        {
          "data": {
            "image/png": "[encoded data removed]",
            "text/plain": [
              "<Figure size 720x144 with 10 Axes>"
            ]
          },
          "metadata": {
            "needs_background": "light"
          },
          "output_type": "display_data"
        }
      ],
      "source": [
        "# Plot 10 random predictions from the test set\n",
        "plot_samples(X_test[:10], y_test[:10], y_pred[:10])"
      ]
    },
    {
      "cell_type": "code",
      "execution_count": null,
      "metadata": {
        "id": "deXeAlYBijmJ"
      },
      "outputs": [],
      "source": []
    }
  ],
  "metadata": {
    "colab": {
      "provenance": []
    },
    "kernelspec": {
      "display_name": "Python 3",
      "language": "python",
      "name": "python3"
    },
    "language_info": {
      "codemirror_mode": {
        "name": "ipython",
        "version": 3
      },
      "file_extension": ".py",
      "mimetype": "text/x-python",
      "name": "python",
      "nbconvert_exporter": "python",
      "pygments_lexer": "ipython3",
      "version": "3.8.5"
    }
  },
  "nbformat": 4,
  "nbformat_minor": 0
}
